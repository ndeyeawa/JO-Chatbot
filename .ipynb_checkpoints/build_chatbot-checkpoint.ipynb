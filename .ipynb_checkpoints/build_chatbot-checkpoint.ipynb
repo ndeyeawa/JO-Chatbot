{
 "cells": [
  {
   "cell_type": "markdown",
   "id": "00d6a27b",
   "metadata": {},
   "source": [
    "## JO-Chatbot"
   ]
  },
  {
   "cell_type": "markdown",
   "id": "c2c3e80d",
   "metadata": {},
   "source": [
    "### Installations"
   ]
  },
  {
   "cell_type": "code",
   "execution_count": 1,
   "id": "43a90775",
   "metadata": {},
   "outputs": [
    {
     "name": "stdout",
     "output_type": "stream",
     "text": [
      "Requirement already satisfied: huggingface_hub in c:\\users\\gueye\\anaconda3\\lib\\site-packages (0.10.1)\n",
      "Requirement already satisfied: requests in c:\\users\\gueye\\anaconda3\\lib\\site-packages (from huggingface_hub) (2.28.1)\n",
      "Requirement already satisfied: pyyaml>=5.1 in c:\\users\\gueye\\anaconda3\\lib\\site-packages (from huggingface_hub) (6.0)\n",
      "Requirement already satisfied: filelock in c:\\users\\gueye\\anaconda3\\lib\\site-packages (from huggingface_hub) (3.9.0)\n",
      "Requirement already satisfied: tqdm in c:\\users\\gueye\\anaconda3\\lib\\site-packages (from huggingface_hub) (4.64.1)\n",
      "Requirement already satisfied: typing-extensions>=3.7.4.3 in c:\\users\\gueye\\anaconda3\\lib\\site-packages (from huggingface_hub) (4.4.0)\n",
      "Requirement already satisfied: packaging>=20.9 in c:\\users\\gueye\\anaconda3\\lib\\site-packages (from huggingface_hub) (22.0)\n",
      "Requirement already satisfied: urllib3<1.27,>=1.21.1 in c:\\users\\gueye\\anaconda3\\lib\\site-packages (from requests->huggingface_hub) (1.26.14)\n",
      "Requirement already satisfied: certifi>=2017.4.17 in c:\\users\\gueye\\anaconda3\\lib\\site-packages (from requests->huggingface_hub) (2023.5.7)\n",
      "Requirement already satisfied: charset-normalizer<3,>=2 in c:\\users\\gueye\\anaconda3\\lib\\site-packages (from requests->huggingface_hub) (2.0.4)\n",
      "Requirement already satisfied: idna<4,>=2.5 in c:\\users\\gueye\\anaconda3\\lib\\site-packages (from requests->huggingface_hub) (3.4)\n",
      "Requirement already satisfied: colorama in c:\\users\\gueye\\anaconda3\\lib\\site-packages (from tqdm->huggingface_hub) (0.4.6)\n"
     ]
    }
   ],
   "source": [
    "!pip install huggingface_hub"
   ]
  },
  {
   "cell_type": "code",
   "execution_count": 2,
   "id": "a6daf7b2",
   "metadata": {},
   "outputs": [
    {
     "name": "stdout",
     "output_type": "stream",
     "text": [
      "Requirement already satisfied: transformers in c:\\users\\gueye\\anaconda3\\lib\\site-packages (4.24.0)\n",
      "Requirement already satisfied: tokenizers!=0.11.3,<0.14,>=0.11.1 in c:\\users\\gueye\\anaconda3\\lib\\site-packages (from transformers) (0.11.4)\n",
      "Requirement already satisfied: numpy>=1.17 in c:\\users\\gueye\\anaconda3\\lib\\site-packages (from transformers) (1.23.5)\n",
      "Requirement already satisfied: regex!=2019.12.17 in c:\\users\\gueye\\anaconda3\\lib\\site-packages (from transformers) (2022.7.9)\n",
      "Requirement already satisfied: tqdm>=4.27 in c:\\users\\gueye\\anaconda3\\lib\\site-packages (from transformers) (4.64.1)\n",
      "Requirement already satisfied: huggingface-hub<1.0,>=0.10.0 in c:\\users\\gueye\\anaconda3\\lib\\site-packages (from transformers) (0.10.1)\n",
      "Requirement already satisfied: requests in c:\\users\\gueye\\anaconda3\\lib\\site-packages (from transformers) (2.28.1)\n",
      "Requirement already satisfied: filelock in c:\\users\\gueye\\anaconda3\\lib\\site-packages (from transformers) (3.9.0)\n",
      "Requirement already satisfied: pyyaml>=5.1 in c:\\users\\gueye\\anaconda3\\lib\\site-packages (from transformers) (6.0)\n",
      "Requirement already satisfied: packaging>=20.0 in c:\\users\\gueye\\anaconda3\\lib\\site-packages (from transformers) (22.0)\n",
      "Requirement already satisfied: typing-extensions>=3.7.4.3 in c:\\users\\gueye\\anaconda3\\lib\\site-packages (from huggingface-hub<1.0,>=0.10.0->transformers) (4.4.0)\n",
      "Requirement already satisfied: colorama in c:\\users\\gueye\\anaconda3\\lib\\site-packages (from tqdm>=4.27->transformers) (0.4.6)\n",
      "Requirement already satisfied: urllib3<1.27,>=1.21.1 in c:\\users\\gueye\\anaconda3\\lib\\site-packages (from requests->transformers) (1.26.14)\n",
      "Requirement already satisfied: certifi>=2017.4.17 in c:\\users\\gueye\\anaconda3\\lib\\site-packages (from requests->transformers) (2023.5.7)\n",
      "Requirement already satisfied: charset-normalizer<3,>=2 in c:\\users\\gueye\\anaconda3\\lib\\site-packages (from requests->transformers) (2.0.4)\n",
      "Requirement already satisfied: idna<4,>=2.5 in c:\\users\\gueye\\anaconda3\\lib\\site-packages (from requests->transformers) (3.4)\n"
     ]
    }
   ],
   "source": [
    "!pip install transformers"
   ]
  },
  {
   "cell_type": "code",
   "execution_count": 3,
   "id": "ed3a70ad",
   "metadata": {},
   "outputs": [
    {
     "name": "stdout",
     "output_type": "stream",
     "text": [
      "Collecting langchain\n",
      "  Downloading langchain-0.1.17-py3-none-any.whl (867 kB)\n",
      "     -------------------------------------- 867.6/867.6 kB 7.9 MB/s eta 0:00:00\n",
      "Collecting jsonpatch<2.0,>=1.33\n",
      "  Downloading jsonpatch-1.33-py2.py3-none-any.whl (12 kB)\n",
      "Collecting async-timeout<5.0.0,>=4.0.0\n",
      "  Downloading async_timeout-4.0.3-py3-none-any.whl (5.7 kB)\n",
      "Requirement already satisfied: SQLAlchemy<3,>=1.4 in c:\\users\\gueye\\anaconda3\\lib\\site-packages (from langchain) (1.4.39)\n",
      "Collecting langsmith<0.2.0,>=0.1.17\n",
      "  Downloading langsmith-0.1.54-py3-none-any.whl (116 kB)\n",
      "     -------------------------------------- 116.7/116.7 kB 6.7 MB/s eta 0:00:00\n",
      "Collecting langchain-core<0.2.0,>=0.1.48\n",
      "  Downloading langchain_core-0.1.52-py3-none-any.whl (302 kB)\n",
      "     -------------------------------------- 302.9/302.9 kB 9.4 MB/s eta 0:00:00\n",
      "Requirement already satisfied: PyYAML>=5.3 in c:\\users\\gueye\\anaconda3\\lib\\site-packages (from langchain) (6.0)\n",
      "Collecting pydantic<3,>=1\n",
      "  Downloading pydantic-2.7.1-py3-none-any.whl (409 kB)\n",
      "     ------------------------------------- 409.3/409.3 kB 12.5 MB/s eta 0:00:00\n",
      "Collecting langchain-community<0.1,>=0.0.36\n",
      "  Downloading langchain_community-0.0.37-py3-none-any.whl (2.0 MB)\n",
      "     ---------------------------------------- 2.0/2.0 MB 10.7 MB/s eta 0:00:00\n",
      "Collecting tenacity<9.0.0,>=8.1.0\n",
      "  Downloading tenacity-8.3.0-py3-none-any.whl (25 kB)\n",
      "Requirement already satisfied: numpy<2,>=1 in c:\\users\\gueye\\anaconda3\\lib\\site-packages (from langchain) (1.23.5)\n",
      "Collecting aiohttp<4.0.0,>=3.8.3\n",
      "  Downloading aiohttp-3.9.5-cp310-cp310-win_amd64.whl (370 kB)\n",
      "     ------------------------------------- 370.7/370.7 kB 11.6 MB/s eta 0:00:00\n",
      "Requirement already satisfied: requests<3,>=2 in c:\\users\\gueye\\anaconda3\\lib\\site-packages (from langchain) (2.28.1)\n",
      "Collecting langchain-text-splitters<0.1,>=0.0.1\n",
      "  Downloading langchain_text_splitters-0.0.1-py3-none-any.whl (21 kB)\n",
      "Collecting dataclasses-json<0.7,>=0.5.7\n",
      "  Downloading dataclasses_json-0.6.5-py3-none-any.whl (28 kB)\n",
      "Collecting frozenlist>=1.1.1\n",
      "  Downloading frozenlist-1.4.1-cp310-cp310-win_amd64.whl (50 kB)\n",
      "     ---------------------------------------- 50.4/50.4 kB ? eta 0:00:00\n",
      "Collecting aiosignal>=1.1.2\n",
      "  Downloading aiosignal-1.3.1-py3-none-any.whl (7.6 kB)\n",
      "Collecting multidict<7.0,>=4.5\n",
      "  Downloading multidict-6.0.5-cp310-cp310-win_amd64.whl (28 kB)\n",
      "Requirement already satisfied: attrs>=17.3.0 in c:\\users\\gueye\\anaconda3\\lib\\site-packages (from aiohttp<4.0.0,>=3.8.3->langchain) (22.1.0)\n",
      "Collecting yarl<2.0,>=1.0\n",
      "  Downloading yarl-1.9.4-cp310-cp310-win_amd64.whl (76 kB)\n",
      "     ---------------------------------------- 76.4/76.4 kB 4.1 MB/s eta 0:00:00\n",
      "Collecting marshmallow<4.0.0,>=3.18.0\n",
      "  Downloading marshmallow-3.21.2-py3-none-any.whl (49 kB)\n",
      "     ---------------------------------------- 49.3/49.3 kB ? eta 0:00:00\n",
      "Collecting typing-inspect<1,>=0.4.0\n",
      "  Downloading typing_inspect-0.9.0-py3-none-any.whl (8.8 kB)\n",
      "Requirement already satisfied: jsonpointer>=1.9 in c:\\users\\gueye\\anaconda3\\lib\\site-packages (from jsonpatch<2.0,>=1.33->langchain) (2.1)\n",
      "Collecting packaging<24.0,>=23.2\n",
      "  Downloading packaging-23.2-py3-none-any.whl (53 kB)\n",
      "     ---------------------------------------- 53.0/53.0 kB 2.7 MB/s eta 0:00:00\n",
      "Collecting orjson<4.0.0,>=3.9.14\n",
      "  Downloading orjson-3.10.3-cp310-none-win_amd64.whl (138 kB)\n",
      "     -------------------------------------- 138.8/138.8 kB 8.0 MB/s eta 0:00:00\n",
      "Collecting annotated-types>=0.4.0\n",
      "  Downloading annotated_types-0.6.0-py3-none-any.whl (12 kB)\n",
      "Collecting pydantic-core==2.18.2\n",
      "  Downloading pydantic_core-2.18.2-cp310-none-win_amd64.whl (1.9 MB)\n",
      "     ---------------------------------------- 1.9/1.9 MB 12.2 MB/s eta 0:00:00\n",
      "Collecting typing-extensions>=4.6.1\n",
      "  Downloading typing_extensions-4.11.0-py3-none-any.whl (34 kB)\n",
      "Requirement already satisfied: certifi>=2017.4.17 in c:\\users\\gueye\\anaconda3\\lib\\site-packages (from requests<3,>=2->langchain) (2023.5.7)\n",
      "Requirement already satisfied: idna<4,>=2.5 in c:\\users\\gueye\\anaconda3\\lib\\site-packages (from requests<3,>=2->langchain) (3.4)\n",
      "Requirement already satisfied: charset-normalizer<3,>=2 in c:\\users\\gueye\\anaconda3\\lib\\site-packages (from requests<3,>=2->langchain) (2.0.4)\n",
      "Requirement already satisfied: urllib3<1.27,>=1.21.1 in c:\\users\\gueye\\anaconda3\\lib\\site-packages (from requests<3,>=2->langchain) (1.26.14)\n",
      "Requirement already satisfied: greenlet!=0.4.17 in c:\\users\\gueye\\anaconda3\\lib\\site-packages (from SQLAlchemy<3,>=1.4->langchain) (2.0.1)\n",
      "Requirement already satisfied: mypy-extensions>=0.3.0 in c:\\users\\gueye\\anaconda3\\lib\\site-packages (from typing-inspect<1,>=0.4.0->dataclasses-json<0.7,>=0.5.7->langchain) (0.4.3)\n",
      "Installing collected packages: typing-extensions, tenacity, packaging, orjson, multidict, jsonpatch, frozenlist, async-timeout, annotated-types, yarl, typing-inspect, pydantic-core, marshmallow, aiosignal, pydantic, dataclasses-json, aiohttp, langsmith, langchain-core, langchain-text-splitters, langchain-community, langchain\n",
      "  Attempting uninstall: typing-extensions\n",
      "    Found existing installation: typing_extensions 4.4.0\n",
      "    Uninstalling typing_extensions-4.4.0:\n",
      "      Successfully uninstalled typing_extensions-4.4.0\n",
      "  Attempting uninstall: tenacity\n",
      "    Found existing installation: tenacity 8.0.1\n",
      "    Uninstalling tenacity-8.0.1:\n",
      "      Successfully uninstalled tenacity-8.0.1\n",
      "  Attempting uninstall: packaging\n",
      "    Found existing installation: packaging 22.0\n",
      "    Uninstalling packaging-22.0:\n",
      "      Successfully uninstalled packaging-22.0\n",
      "  Attempting uninstall: jsonpatch\n",
      "    Found existing installation: jsonpatch 1.32\n",
      "    Uninstalling jsonpatch-1.32:\n",
      "      Successfully uninstalled jsonpatch-1.32\n",
      "Successfully installed aiohttp-3.9.5 aiosignal-1.3.1 annotated-types-0.6.0 async-timeout-4.0.3 dataclasses-json-0.6.5 frozenlist-1.4.1 jsonpatch-1.33 langchain-0.1.17 langchain-community-0.0.37 langchain-core-0.1.52 langchain-text-splitters-0.0.1 langsmith-0.1.54 marshmallow-3.21.2 multidict-6.0.5 orjson-3.10.3 packaging-23.2 pydantic-2.7.1 pydantic-core-2.18.2 tenacity-8.3.0 typing-extensions-4.11.0 typing-inspect-0.9.0 yarl-1.9.4\n"
     ]
    }
   ],
   "source": [
    "!pip install langchain"
   ]
  },
  {
   "cell_type": "code",
   "execution_count": 4,
   "id": "e792922c",
   "metadata": {},
   "outputs": [
    {
     "name": "stdout",
     "output_type": "stream",
     "text": [
      "Collecting chainlit\n",
      "  Downloading chainlit-1.0.506-py3-none-any.whl (4.4 MB)\n",
      "     ---------------------------------------- 4.4/4.4 MB 8.9 MB/s eta 0:00:00\n",
      "Requirement already satisfied: packaging<24.0,>=23.1 in c:\\users\\gueye\\anaconda3\\lib\\site-packages (from chainlit) (23.2)\n",
      "Requirement already satisfied: nest-asyncio<2.0.0,>=1.5.6 in c:\\users\\gueye\\anaconda3\\lib\\site-packages (from chainlit) (1.5.6)\n",
      "Collecting filetype<2.0.0,>=1.2.0\n",
      "  Downloading filetype-1.2.0-py2.py3-none-any.whl (19 kB)\n",
      "Requirement already satisfied: pydantic<3,>=1 in c:\\users\\gueye\\anaconda3\\lib\\site-packages (from chainlit) (2.7.1)\n",
      "Collecting python-multipart<0.0.10,>=0.0.9\n",
      "  Downloading python_multipart-0.0.9-py3-none-any.whl (22 kB)\n",
      "Collecting python-dotenv<2.0.0,>=1.0.0\n",
      "  Downloading python_dotenv-1.0.1-py3-none-any.whl (19 kB)\n",
      "Collecting uptrace<2.0.0,>=1.22.0\n",
      "  Downloading uptrace-1.24.0-py3-none-any.whl (8.6 kB)\n",
      "Collecting dataclasses_json<0.6.0,>=0.5.7\n",
      "  Downloading dataclasses_json-0.5.14-py3-none-any.whl (26 kB)\n",
      "Collecting fastapi-socketio<0.0.11,>=0.0.10\n",
      "  Downloading fastapi_socketio-0.0.10-py3-none-any.whl (7.4 kB)\n",
      "Collecting asyncer<0.0.3,>=0.0.2\n",
      "  Downloading asyncer-0.0.2-py3-none-any.whl (8.3 kB)\n",
      "Collecting httpx>=0.23.0\n",
      "  Downloading httpx-0.27.0-py3-none-any.whl (75 kB)\n",
      "     ---------------------------------------- 75.6/75.6 kB ? eta 0:00:00\n",
      "Collecting uvicorn<0.26.0,>=0.25.0\n",
      "  Downloading uvicorn-0.25.0-py3-none-any.whl (60 kB)\n",
      "     ---------------------------------------- 60.3/60.3 kB ? eta 0:00:00\n",
      "Collecting fastapi<0.111.0,>=0.110.1\n",
      "  Downloading fastapi-0.110.3-py3-none-any.whl (91 kB)\n",
      "     ---------------------------------------- 91.8/91.8 kB 5.1 MB/s eta 0:00:00\n",
      "Collecting click<9.0.0,>=8.1.3\n",
      "  Downloading click-8.1.7-py3-none-any.whl (97 kB)\n",
      "     ---------------------------------------- 97.9/97.9 kB ? eta 0:00:00\n",
      "Requirement already satisfied: tomli<3.0.0,>=2.0.1 in c:\\users\\gueye\\anaconda3\\lib\\site-packages (from chainlit) (2.0.1)\n",
      "Collecting aiofiles<24.0.0,>=23.1.0\n",
      "  Downloading aiofiles-23.2.1-py3-none-any.whl (15 kB)\n",
      "Collecting pyjwt<3.0.0,>=2.8.0\n",
      "  Downloading PyJWT-2.8.0-py3-none-any.whl (22 kB)\n",
      "Collecting watchfiles<0.21.0,>=0.20.0\n",
      "  Downloading watchfiles-0.20.0-cp37-abi3-win_amd64.whl (276 kB)\n",
      "     -------------------------------------- 276.7/276.7 kB 8.3 MB/s eta 0:00:00\n",
      "Collecting literalai==0.0.509\n",
      "  Downloading literalai-0.0.509.tar.gz (47 kB)\n",
      "     ---------------------------------------- 47.5/47.5 kB ? eta 0:00:00\n",
      "  Preparing metadata (setup.py): started\n",
      "  Preparing metadata (setup.py): finished with status 'done'\n",
      "Collecting python-graphql-client<0.5.0,>=0.4.3\n",
      "  Downloading python_graphql_client-0.4.3-py3-none-any.whl (4.9 kB)\n",
      "Collecting starlette<0.38.0,>=0.37.2\n",
      "  Downloading starlette-0.37.2-py3-none-any.whl (71 kB)\n",
      "     ---------------------------------------- 71.9/71.9 kB 3.9 MB/s eta 0:00:00\n",
      "Collecting syncer<3.0.0,>=2.0.3\n",
      "  Downloading syncer-2.0.3.tar.gz (11 kB)\n",
      "  Preparing metadata (setup.py): started\n",
      "  Preparing metadata (setup.py): finished with status 'done'\n",
      "Collecting lazify<0.5.0,>=0.4.0\n",
      "  Downloading Lazify-0.4.0-py2.py3-none-any.whl (3.1 kB)\n",
      "Collecting chevron>=0.14.0\n",
      "  Downloading chevron-0.14.0-py3-none-any.whl (11 kB)\n",
      "Requirement already satisfied: anyio<4.0.0,>=3.4.0 in c:\\users\\gueye\\anaconda3\\lib\\site-packages (from asyncer<0.0.3,>=0.0.2->chainlit) (3.5.0)\n",
      "Requirement already satisfied: colorama in c:\\users\\gueye\\anaconda3\\lib\\site-packages (from click<9.0.0,>=8.1.3->chainlit) (0.4.6)\n",
      "Requirement already satisfied: typing-inspect<1,>=0.4.0 in c:\\users\\gueye\\anaconda3\\lib\\site-packages (from dataclasses_json<0.6.0,>=0.5.7->chainlit) (0.9.0)\n",
      "Requirement already satisfied: marshmallow<4.0.0,>=3.18.0 in c:\\users\\gueye\\anaconda3\\lib\\site-packages (from dataclasses_json<0.6.0,>=0.5.7->chainlit) (3.21.2)\n",
      "Requirement already satisfied: typing-extensions>=4.8.0 in c:\\users\\gueye\\anaconda3\\lib\\site-packages (from fastapi<0.111.0,>=0.110.1->chainlit) (4.11.0)\n",
      "Collecting python-socketio>=4.6.0\n",
      "  Downloading python_socketio-5.11.2-py3-none-any.whl (75 kB)\n",
      "     ---------------------------------------- 75.7/75.7 kB 4.1 MB/s eta 0:00:00\n",
      "Collecting httpcore==1.*\n",
      "  Downloading httpcore-1.0.5-py3-none-any.whl (77 kB)\n",
      "     ---------------------------------------- 77.9/77.9 kB ? eta 0:00:00\n",
      "Requirement already satisfied: idna in c:\\users\\gueye\\anaconda3\\lib\\site-packages (from httpx>=0.23.0->chainlit) (3.4)\n",
      "Requirement already satisfied: sniffio in c:\\users\\gueye\\anaconda3\\lib\\site-packages (from httpx>=0.23.0->chainlit) (1.2.0)\n",
      "Requirement already satisfied: certifi in c:\\users\\gueye\\anaconda3\\lib\\site-packages (from httpx>=0.23.0->chainlit) (2023.5.7)\n",
      "Collecting h11<0.15,>=0.13\n",
      "  Downloading h11-0.14.0-py3-none-any.whl (58 kB)\n",
      "     ---------------------------------------- 58.3/58.3 kB ? eta 0:00:00\n",
      "Requirement already satisfied: annotated-types>=0.4.0 in c:\\users\\gueye\\anaconda3\\lib\\site-packages (from pydantic<3,>=1->chainlit) (0.6.0)\n",
      "Requirement already satisfied: pydantic-core==2.18.2 in c:\\users\\gueye\\anaconda3\\lib\\site-packages (from pydantic<3,>=1->chainlit) (2.18.2)\n",
      "Collecting websockets>=5.0\n",
      "  Downloading websockets-12.0-cp310-cp310-win_amd64.whl (124 kB)\n",
      "     -------------------------------------- 125.0/125.0 kB 7.6 MB/s eta 0:00:00\n",
      "Requirement already satisfied: requests~=2.0 in c:\\users\\gueye\\anaconda3\\lib\\site-packages (from python-graphql-client<0.5.0,>=0.4.3->chainlit) (2.28.1)\n",
      "Requirement already satisfied: aiohttp~=3.0 in c:\\users\\gueye\\anaconda3\\lib\\site-packages (from python-graphql-client<0.5.0,>=0.4.3->chainlit) (3.9.5)\n",
      "Collecting opentelemetry-api~=1.24\n",
      "  Downloading opentelemetry_api-1.24.0-py3-none-any.whl (60 kB)\n",
      "     ---------------------------------------- 60.1/60.1 kB ? eta 0:00:00\n",
      "Collecting opentelemetry-exporter-otlp~=1.24\n",
      "  Downloading opentelemetry_exporter_otlp-1.24.0-py3-none-any.whl (7.0 kB)\n",
      "Collecting opentelemetry-instrumentation~=0.45b0\n",
      "  Downloading opentelemetry_instrumentation-0.45b0-py3-none-any.whl (28 kB)\n",
      "Collecting opentelemetry-sdk~=1.24\n",
      "  Downloading opentelemetry_sdk-1.24.0-py3-none-any.whl (106 kB)\n",
      "     -------------------------------------- 106.1/106.1 kB 6.0 MB/s eta 0:00:00\n",
      "Requirement already satisfied: yarl<2.0,>=1.0 in c:\\users\\gueye\\anaconda3\\lib\\site-packages (from aiohttp~=3.0->python-graphql-client<0.5.0,>=0.4.3->chainlit) (1.9.4)\n",
      "Requirement already satisfied: aiosignal>=1.1.2 in c:\\users\\gueye\\anaconda3\\lib\\site-packages (from aiohttp~=3.0->python-graphql-client<0.5.0,>=0.4.3->chainlit) (1.3.1)\n",
      "Requirement already satisfied: async-timeout<5.0,>=4.0 in c:\\users\\gueye\\anaconda3\\lib\\site-packages (from aiohttp~=3.0->python-graphql-client<0.5.0,>=0.4.3->chainlit) (4.0.3)\n",
      "Requirement already satisfied: multidict<7.0,>=4.5 in c:\\users\\gueye\\anaconda3\\lib\\site-packages (from aiohttp~=3.0->python-graphql-client<0.5.0,>=0.4.3->chainlit) (6.0.5)\n",
      "Requirement already satisfied: attrs>=17.3.0 in c:\\users\\gueye\\anaconda3\\lib\\site-packages (from aiohttp~=3.0->python-graphql-client<0.5.0,>=0.4.3->chainlit) (22.1.0)\n",
      "Requirement already satisfied: frozenlist>=1.1.1 in c:\\users\\gueye\\anaconda3\\lib\\site-packages (from aiohttp~=3.0->python-graphql-client<0.5.0,>=0.4.3->chainlit) (1.4.1)\n",
      "Collecting importlib-metadata<=7.0,>=6.0\n",
      "  Downloading importlib_metadata-7.0.0-py3-none-any.whl (23 kB)\n",
      "Collecting deprecated>=1.2.6\n",
      "  Downloading Deprecated-1.2.14-py2.py3-none-any.whl (9.6 kB)\n",
      "Collecting opentelemetry-exporter-otlp-proto-grpc==1.24.0\n",
      "  Downloading opentelemetry_exporter_otlp_proto_grpc-1.24.0-py3-none-any.whl (18 kB)\n",
      "Collecting opentelemetry-exporter-otlp-proto-http==1.24.0\n",
      "  Downloading opentelemetry_exporter_otlp_proto_http-1.24.0-py3-none-any.whl (16 kB)\n",
      "Collecting googleapis-common-protos~=1.52\n",
      "  Downloading googleapis_common_protos-1.63.0-py2.py3-none-any.whl (229 kB)\n",
      "     ------------------------------------- 229.1/229.1 kB 14.6 MB/s eta 0:00:00\n",
      "Collecting opentelemetry-exporter-otlp-proto-common==1.24.0\n",
      "  Downloading opentelemetry_exporter_otlp_proto_common-1.24.0-py3-none-any.whl (17 kB)\n",
      "Collecting grpcio<2.0.0,>=1.0.0\n",
      "  Downloading grpcio-1.63.0-cp310-cp310-win_amd64.whl (3.9 MB)\n",
      "     ---------------------------------------- 3.9/3.9 MB 10.8 MB/s eta 0:00:00\n",
      "Collecting opentelemetry-proto==1.24.0\n",
      "  Downloading opentelemetry_proto-1.24.0-py3-none-any.whl (50 kB)\n",
      "     ---------------------------------------- 50.8/50.8 kB 2.5 MB/s eta 0:00:00\n",
      "Collecting protobuf<5.0,>=3.19\n",
      "  Downloading protobuf-4.25.3-cp310-abi3-win_amd64.whl (413 kB)\n",
      "     -------------------------------------- 413.4/413.4 kB 8.6 MB/s eta 0:00:00\n",
      "Requirement already satisfied: setuptools>=16.0 in c:\\users\\gueye\\anaconda3\\lib\\site-packages (from opentelemetry-instrumentation~=0.45b0->uptrace<2.0.0,>=1.22.0->chainlit) (65.6.3)\n",
      "Requirement already satisfied: wrapt<2.0.0,>=1.0.0 in c:\\users\\gueye\\anaconda3\\lib\\site-packages (from opentelemetry-instrumentation~=0.45b0->uptrace<2.0.0,>=1.22.0->chainlit) (1.14.1)\n",
      "Collecting opentelemetry-semantic-conventions==0.45b0\n",
      "  Downloading opentelemetry_semantic_conventions-0.45b0-py3-none-any.whl (36 kB)\n",
      "Collecting python-engineio>=4.8.0\n",
      "  Downloading python_engineio-4.9.0-py3-none-any.whl (57 kB)\n",
      "     ---------------------------------------- 57.5/57.5 kB 3.2 MB/s eta 0:00:00\n",
      "Collecting bidict>=0.21.0\n",
      "  Downloading bidict-0.23.1-py3-none-any.whl (32 kB)\n",
      "Requirement already satisfied: urllib3<1.27,>=1.21.1 in c:\\users\\gueye\\anaconda3\\lib\\site-packages (from requests~=2.0->python-graphql-client<0.5.0,>=0.4.3->chainlit) (1.26.14)\n",
      "Requirement already satisfied: charset-normalizer<3,>=2 in c:\\users\\gueye\\anaconda3\\lib\\site-packages (from requests~=2.0->python-graphql-client<0.5.0,>=0.4.3->chainlit) (2.0.4)\n",
      "Requirement already satisfied: mypy-extensions>=0.3.0 in c:\\users\\gueye\\anaconda3\\lib\\site-packages (from typing-inspect<1,>=0.4.0->dataclasses_json<0.6.0,>=0.5.7->chainlit) (0.4.3)\n",
      "Requirement already satisfied: zipp>=0.5 in c:\\users\\gueye\\anaconda3\\lib\\site-packages (from importlib-metadata<=7.0,>=6.0->opentelemetry-api~=1.24->uptrace<2.0.0,>=1.22.0->chainlit) (3.11.0)\n",
      "Collecting simple-websocket>=0.10.0\n",
      "  Downloading simple_websocket-1.0.0-py3-none-any.whl (13 kB)\n",
      "Collecting wsproto\n",
      "  Downloading wsproto-1.2.0-py3-none-any.whl (24 kB)\n",
      "Building wheels for collected packages: literalai, syncer\n",
      "  Building wheel for literalai (setup.py): started\n",
      "  Building wheel for literalai (setup.py): finished with status 'done'\n",
      "  Created wheel for literalai: filename=literalai-0.0.509-py3-none-any.whl size=59317 sha256=d09084723dc4d6992c0d3c73be9084510c153fa7e08996419a09491230032bba\n",
      "  Stored in directory: c:\\users\\gueye\\appdata\\local\\pip\\cache\\wheels\\7f\\a7\\7e\\f8d40a71f2f23db3fb5c14705351a41f2d98c26d939c23c635\n",
      "  Building wheel for syncer (setup.py): started\n",
      "  Building wheel for syncer (setup.py): finished with status 'done'\n",
      "  Created wheel for syncer: filename=syncer-2.0.3-py2.py3-none-any.whl size=3452 sha256=d52b33924cff7d8af7f49e14024ab5f46baa81f0d72035476ae5b9910d900e69\n",
      "  Stored in directory: c:\\users\\gueye\\appdata\\local\\pip\\cache\\wheels\\5e\\d9\\fe\\1d5145b0412c15a8a17e7d0470dee4739cf019df93e8af86bd\n",
      "Successfully built literalai syncer\n",
      "Installing collected packages: syncer, lazify, filetype, chevron, websockets, python-multipart, python-dotenv, pyjwt, protobuf, opentelemetry-semantic-conventions, importlib-metadata, h11, grpcio, deprecated, click, bidict, aiofiles, wsproto, watchfiles, uvicorn, starlette, opentelemetry-proto, opentelemetry-api, httpcore, googleapis-common-protos, dataclasses_json, asyncer, simple-websocket, python-graphql-client, opentelemetry-sdk, opentelemetry-instrumentation, opentelemetry-exporter-otlp-proto-common, httpx, fastapi, python-engineio, opentelemetry-exporter-otlp-proto-http, opentelemetry-exporter-otlp-proto-grpc, literalai, python-socketio, opentelemetry-exporter-otlp, uptrace, fastapi-socketio, chainlit\n",
      "  Attempting uninstall: pyjwt\n",
      "    Found existing installation: PyJWT 2.4.0\n",
      "    Uninstalling PyJWT-2.4.0:\n",
      "      Successfully uninstalled PyJWT-2.4.0\n",
      "  Attempting uninstall: importlib-metadata\n",
      "    Found existing installation: importlib-metadata 4.11.3\n",
      "    Uninstalling importlib-metadata-4.11.3:\n",
      "      Successfully uninstalled importlib-metadata-4.11.3\n",
      "  Attempting uninstall: click\n",
      "    Found existing installation: click 8.0.4\n",
      "    Uninstalling click-8.0.4:\n",
      "      Successfully uninstalled click-8.0.4\n",
      "  Attempting uninstall: dataclasses_json\n",
      "    Found existing installation: dataclasses-json 0.6.5\n",
      "    Uninstalling dataclasses-json-0.6.5:\n",
      "      Successfully uninstalled dataclasses-json-0.6.5\n",
      "Successfully installed aiofiles-23.2.1 asyncer-0.0.2 bidict-0.23.1 chainlit-1.0.506 chevron-0.14.0 click-8.1.7 dataclasses_json-0.5.14 deprecated-1.2.14 fastapi-0.110.3 fastapi-socketio-0.0.10 filetype-1.2.0 googleapis-common-protos-1.63.0 grpcio-1.63.0 h11-0.14.0 httpcore-1.0.5 httpx-0.27.0 importlib-metadata-7.0.0 lazify-0.4.0 literalai-0.0.509 opentelemetry-api-1.24.0 opentelemetry-exporter-otlp-1.24.0 opentelemetry-exporter-otlp-proto-common-1.24.0 opentelemetry-exporter-otlp-proto-grpc-1.24.0 opentelemetry-exporter-otlp-proto-http-1.24.0 opentelemetry-instrumentation-0.45b0 opentelemetry-proto-1.24.0 opentelemetry-sdk-1.24.0 opentelemetry-semantic-conventions-0.45b0 protobuf-4.25.3 pyjwt-2.8.0 python-dotenv-1.0.1 python-engineio-4.9.0 python-graphql-client-0.4.3 python-multipart-0.0.9 python-socketio-5.11.2 simple-websocket-1.0.0 starlette-0.37.2 syncer-2.0.3 uptrace-1.24.0 uvicorn-0.25.0 watchfiles-0.20.0 websockets-12.0 wsproto-1.2.0\n"
     ]
    }
   ],
   "source": [
    "!pip install chainlit"
   ]
  },
  {
   "cell_type": "code",
   "execution_count": 8,
   "id": "ac70952d",
   "metadata": {},
   "outputs": [
    {
     "name": "stdout",
     "output_type": "stream",
     "text": [
      "2024-05-07 15:12:16 - Your app is available at http://localhost:8000\n"
     ]
    },
    {
     "name": "stderr",
     "output_type": "stream",
     "text": [
      "ERROR:    [Errno 10048] error while attempting to bind on address ('0.0.0.0', 8000): une seule utilisation de chaque adresse de socket (protocole/adresse réseau/port) est habituellement autorisée\n"
     ]
    }
   ],
   "source": [
    "!chainlit hello"
   ]
  },
  {
   "cell_type": "code",
   "execution_count": 9,
   "id": "ada23312",
   "metadata": {},
   "outputs": [],
   "source": [
    "import os\n",
    "import chainlit as cl\n",
    "from langchain import HuggingFaceHub, PromptTemplate, LLMChain"
   ]
  },
  {
   "cell_type": "code",
   "execution_count": 10,
   "id": "6613f84e",
   "metadata": {},
   "outputs": [
    {
     "ename": "KeyboardInterrupt",
     "evalue": "Interrupted by user",
     "output_type": "error",
     "traceback": [
      "\u001b[1;31m---------------------------------------------------------------------------\u001b[0m",
      "\u001b[1;31mKeyboardInterrupt\u001b[0m                         Traceback (most recent call last)",
      "Cell \u001b[1;32mIn[10], line 2\u001b[0m\n\u001b[0;32m      1\u001b[0m \u001b[38;5;28;01mfrom\u001b[39;00m \u001b[38;5;21;01mgetpass\u001b[39;00m \u001b[38;5;28;01mimport\u001b[39;00m getpass\n\u001b[1;32m----> 2\u001b[0m HUGGINGFACEHUB_API_TOKEN \u001b[38;5;241m=\u001b[39m \u001b[43mgetpass\u001b[49m\u001b[43m(\u001b[49m\u001b[43m)\u001b[49m\n\u001b[0;32m      3\u001b[0m os\u001b[38;5;241m.\u001b[39menviron[\u001b[38;5;124m'\u001b[39m\u001b[38;5;124mHUGGINGFACEHUB_API_TOKEN\u001b[39m\u001b[38;5;124m'\u001b[39m] \u001b[38;5;241m=\u001b[39m HUGGINGFACEHUB_API_TOKEN\n",
      "File \u001b[1;32m~\\anaconda3\\lib\\site-packages\\ipykernel\\kernelbase.py:1157\u001b[0m, in \u001b[0;36mKernel.getpass\u001b[1;34m(self, prompt, stream)\u001b[0m\n\u001b[0;32m   1150\u001b[0m     \u001b[38;5;28;01mimport\u001b[39;00m \u001b[38;5;21;01mwarnings\u001b[39;00m\n\u001b[0;32m   1152\u001b[0m     warnings\u001b[38;5;241m.\u001b[39mwarn(\n\u001b[0;32m   1153\u001b[0m         \u001b[38;5;124m\"\u001b[39m\u001b[38;5;124mThe `stream` parameter of `getpass.getpass` will have no effect when using ipykernel\u001b[39m\u001b[38;5;124m\"\u001b[39m,\n\u001b[0;32m   1154\u001b[0m         \u001b[38;5;167;01mUserWarning\u001b[39;00m,\n\u001b[0;32m   1155\u001b[0m         stacklevel\u001b[38;5;241m=\u001b[39m\u001b[38;5;241m2\u001b[39m,\n\u001b[0;32m   1156\u001b[0m     )\n\u001b[1;32m-> 1157\u001b[0m \u001b[38;5;28;01mreturn\u001b[39;00m \u001b[38;5;28;43mself\u001b[39;49m\u001b[38;5;241;43m.\u001b[39;49m\u001b[43m_input_request\u001b[49m\u001b[43m(\u001b[49m\n\u001b[0;32m   1158\u001b[0m \u001b[43m    \u001b[49m\u001b[43mprompt\u001b[49m\u001b[43m,\u001b[49m\n\u001b[0;32m   1159\u001b[0m \u001b[43m    \u001b[49m\u001b[38;5;28;43mself\u001b[39;49m\u001b[38;5;241;43m.\u001b[39;49m\u001b[43m_parent_ident\u001b[49m\u001b[43m[\u001b[49m\u001b[38;5;124;43m\"\u001b[39;49m\u001b[38;5;124;43mshell\u001b[39;49m\u001b[38;5;124;43m\"\u001b[39;49m\u001b[43m]\u001b[49m\u001b[43m,\u001b[49m\n\u001b[0;32m   1160\u001b[0m \u001b[43m    \u001b[49m\u001b[38;5;28;43mself\u001b[39;49m\u001b[38;5;241;43m.\u001b[39;49m\u001b[43mget_parent\u001b[49m\u001b[43m(\u001b[49m\u001b[38;5;124;43m\"\u001b[39;49m\u001b[38;5;124;43mshell\u001b[39;49m\u001b[38;5;124;43m\"\u001b[39;49m\u001b[43m)\u001b[49m\u001b[43m,\u001b[49m\n\u001b[0;32m   1161\u001b[0m \u001b[43m    \u001b[49m\u001b[43mpassword\u001b[49m\u001b[38;5;241;43m=\u001b[39;49m\u001b[38;5;28;43;01mTrue\u001b[39;49;00m\u001b[43m,\u001b[49m\n\u001b[0;32m   1162\u001b[0m \u001b[43m\u001b[49m\u001b[43m)\u001b[49m\n",
      "File \u001b[1;32m~\\anaconda3\\lib\\site-packages\\ipykernel\\kernelbase.py:1217\u001b[0m, in \u001b[0;36mKernel._input_request\u001b[1;34m(self, prompt, ident, parent, password)\u001b[0m\n\u001b[0;32m   1214\u001b[0m             \u001b[38;5;28;01mbreak\u001b[39;00m\n\u001b[0;32m   1215\u001b[0m \u001b[38;5;28;01mexcept\u001b[39;00m \u001b[38;5;167;01mKeyboardInterrupt\u001b[39;00m:\n\u001b[0;32m   1216\u001b[0m     \u001b[38;5;66;03m# re-raise KeyboardInterrupt, to truncate traceback\u001b[39;00m\n\u001b[1;32m-> 1217\u001b[0m     \u001b[38;5;28;01mraise\u001b[39;00m \u001b[38;5;167;01mKeyboardInterrupt\u001b[39;00m(\u001b[38;5;124m\"\u001b[39m\u001b[38;5;124mInterrupted by user\u001b[39m\u001b[38;5;124m\"\u001b[39m) \u001b[38;5;28;01mfrom\u001b[39;00m \u001b[38;5;28mNone\u001b[39m\n\u001b[0;32m   1218\u001b[0m \u001b[38;5;28;01mexcept\u001b[39;00m \u001b[38;5;167;01mException\u001b[39;00m:\n\u001b[0;32m   1219\u001b[0m     \u001b[38;5;28mself\u001b[39m\u001b[38;5;241m.\u001b[39mlog\u001b[38;5;241m.\u001b[39mwarning(\u001b[38;5;124m\"\u001b[39m\u001b[38;5;124mInvalid Message:\u001b[39m\u001b[38;5;124m\"\u001b[39m, exc_info\u001b[38;5;241m=\u001b[39m\u001b[38;5;28;01mTrue\u001b[39;00m)\n",
      "\u001b[1;31mKeyboardInterrupt\u001b[0m: Interrupted by user"
     ]
    }
   ],
   "source": [
    "from getpass import getpass\n",
    "HUGGINGFACEHUB_API_TOKEN = getpass()\n",
    "os.environ['HUGGINGFACEHUB_API_TOKEN'] = HUGGINGFACEHUB_API_TOKEN"
   ]
  },
  {
   "cell_type": "markdown",
   "id": "9139f1cb",
   "metadata": {},
   "source": [
    "The PromptTemplate is one of the elements of LangChain, necessary for building applications based on the Large Language Model. It defines how the model should interpret the user’s questions and in what context it should answer them"
   ]
  },
  {
   "cell_type": "code",
   "execution_count": null,
   "id": "e79e86c8",
   "metadata": {},
   "outputs": [],
   "source": [
    "model_id = \"gpt2-medium\"  #355M parameters\n",
    "conv_model = HuggingFaceHub(huggingfacehub_api_token=os.environ['HUGGINGFACEHUB_API_TOKEN'],\n",
    "                            repo_id=model_id,\n",
    "                            model_kwargs={\"temperature\":0.8, \"max_new_tokens\":200}) #0 to 1"
   ]
  },
  {
   "cell_type": "code",
   "execution_count": null,
   "id": "5d745eda",
   "metadata": {},
   "outputs": [],
   "source": [
    "template = \"\"\"You are a chatbot that provides information about the Paris Olympics.\n",
    "Question: {question}\n",
    "Answer: \n",
    "\"\"\"\n",
    "\n",
    "prompt = PromptTemplate(template=template, input_variables=['question'])"
   ]
  },
  {
   "cell_type": "code",
   "execution_count": null,
   "id": "dab71a14",
   "metadata": {},
   "outputs": [],
   "source": [
    "conv_chain = LLMChain(llm=conv_model,\n",
    "                      prompt=prompt,\n",
    "                      verbose=True)"
   ]
  },
  {
   "cell_type": "code",
   "execution_count": null,
   "id": "fdeba59a",
   "metadata": {},
   "outputs": [],
   "source": [
    "# Fonction pour récupérer les événements culturels des JO 2024\n",
    "def get_olympic_events(limit=20):\n",
    "    url = \"https://data.paris2024.org/api/explore/v2.1/catalog/datasets/paris-2024-evenements-olympiade-culturelle/records\"\n",
    "    params = {\"limit\": limit}\n",
    "    response = requests.get(url, params=params)\n",
    "    if response.status_code == 200:\n",
    "        data = response.json()\n",
    "        events = data[\"records\"]\n",
    "        formatted_events = []\n",
    "        for event in events:\n",
    "            title = event[\"record\"][\"fields\"].get(\"titre\", \"Titre inconnu\")\n",
    "            date = event[\"record\"][\"fields\"].get(\"date\", \"Date inconnue\")\n",
    "            location = event[\"record\"][\"fields\"].get(\"lieu\", \"Lieu inconnu\")\n",
    "            formatted_events.append(f\"Titre : {title}, Date : {date}, Lieu : {location}\")\n",
    "        return \"\\n\".join(formatted_events)\n",
    "    else:\n",
    "        return \"Erreur lors de la récupération des événements.\"\n",
    "\n",
    "# Créer une fonction de conversation avec Chainlit\n",
    "@chainlit\n",
    "def main(question: str):\n",
    "    # Si la question contient \"événements\", obtenir la liste des événements\n",
    "    if \"événements\" in question.lower():\n",
    "        events = get_olympic_events()\n",
    "        return f\"Voici les événements à venir des JO 2024 à Paris :\\n\\n{events}\"\n",
    "    else:\n",
    "        response = chain.run(question=question)\n",
    "        return response"
   ]
  },
  {
   "cell_type": "code",
   "execution_count": null,
   "id": "3d5d364f",
   "metadata": {},
   "outputs": [],
   "source": []
  },
  {
   "cell_type": "code",
   "execution_count": null,
   "id": "1b6e7a00",
   "metadata": {},
   "outputs": [],
   "source": []
  }
 ],
 "metadata": {
  "kernelspec": {
   "display_name": "Python 3 (ipykernel)",
   "language": "python",
   "name": "python3"
  },
  "language_info": {
   "codemirror_mode": {
    "name": "ipython",
    "version": 3
   },
   "file_extension": ".py",
   "mimetype": "text/x-python",
   "name": "python",
   "nbconvert_exporter": "python",
   "pygments_lexer": "ipython3",
   "version": "3.10.9"
  }
 },
 "nbformat": 4,
 "nbformat_minor": 5
}
